{
 "metadata": {
  "language_info": {
   "codemirror_mode": {
    "name": "ipython",
    "version": 3
   },
   "file_extension": ".py",
   "mimetype": "text/x-python",
   "name": "python",
   "nbconvert_exporter": "python",
   "pygments_lexer": "ipython3",
   "version": "3.7.4-final"
  },
  "orig_nbformat": 2,
  "kernelspec": {
   "name": "python37464bitanaconda3virtualenv4d6fa84d42f44c7e910d29746f51e4dd",
   "display_name": "Python 3.7.4 64-bit ('anaconda3': virtualenv)"
  }
 },
 "nbformat": 4,
 "nbformat_minor": 2,
 "cells": [
  {
   "cell_type": "markdown",
   "metadata": {},
   "source": [
    "# STEP:1 Imports and Utility functions for plotting"
   ]
  },
  {
   "cell_type": "code",
   "execution_count": 2,
   "metadata": {
    "tags": []
   },
   "outputs": [],
   "source": [
    "# Importing python built-in and Scikit related libraries\n",
    "import pandas as pd #for dataframes and analysis\n",
    "import numpy as np #for calculations using vecs, matrices\n",
    "import seaborn as sns #for plotting like hist, dist, bar etc\n",
    "import matplotlib.pyplot as plt #make built-in plots as well provide support to seaborn package libraries\n",
    "#matplotlib inline #activate matplotlib plotting over cell in the notbook\n",
    "\n",
    "#Scikit libraries\n",
    "from sklearn.model_selection import train_test_split # split the data for cross validation purpose\n",
    "from sklearn.model_selection import learning_curve # for plotting comparison scores training and test (Cross-val-score)\n",
    "from sklearn.model_selection import validation_curve  # for plotting comparison scores training and test (Cross-val-score)\n",
    "from sklearn.model_selection import cross_val_score # for computing cross_val_score, cross_val_predict\n",
    "from sklearn.linear_model import LogisticRegression # Importing model"
   ]
  },
  {
   "cell_type": "markdown",
   "metadata": {},
   "source": [
    "## STEP:1b Utility Functions"
   ]
  },
  {
   "cell_type": "code",
   "execution_count": 17,
   "metadata": {},
   "outputs": [],
   "source": [
    "#1 Missing values tally DF\n",
    "def draw_missing_data_table(df):\n",
    "    missing=df.isnull().sum().sort_values(ascending=False )# Get the missing values for each column, which will represented as index in the df\n",
    "    percents=(df.isnull().sum()/df.isnull().count()).sort_values(ascending=False) # Get the percents for the missing values\n",
    "    missing_data = pd.concat([missing, percents], axis=1, keys=['Total', 'Percent'])\n",
    "    return missing_data\n",
    "\n",
    "#2 Plot Learning Curve\n",
    "def plot_learning_curve(estimator,\n",
    "                                        title,\n",
    "                                        X, y,\n",
    "                                        ylim=None,\n",
    "                                        cv=None,\n",
    "                                        n_jobs = 1,\n",
    "                                    train_sizes=np.linspace(0.1,1.0, 5)):\n",
    "\n",
    "                                        # Create Fig obj with trivial settings\n",
    "                                        plt.figure() # create fig obj\n",
    "                                        plt.title(title) # set title for the fig\n",
    "                                        if ylim is not None: # set the ylim if yli\n",
    "                                            plt.ylim(*ylim)\n",
    "                                        plt.xlabel(\"Training examples\")\n",
    "                                        plt.ylabel(\"Score\")\n",
    "\n",
    "                                        # get train_size, train_scores, test_scores\n",
    "                                        train_sizes, train_scores, test_scores = learning_curve(estimator, X, y, cv=cv, n_jobs= n_jobs, train_sizes = train_sizes)\n",
    "\n",
    "                                        # get parameters Mu, sigma for Train, Test data\n",
    "                                        train_scores_mean = np.mean(train_scores, axis= 1)\n",
    "                                        test_scores_mean = np.mean(test_scores, axis= 1)\n",
    "                                        train_scores_std = np.std(train_scores, axis= 1)\n",
    "                                        test_scores_std = np.std(test_scores, axis= 1)\n",
    "\n",
    "                                        # Set the fill\n",
    "                                        plt.fill_between(train_sizes, train_scores_mean-train_scores_std, train_scores_mean+train_scores_std, alpha = 0.2, color='r')\n",
    "                                        plt.fill_between(train_sizes, test_scores_mean-test_scores_std, test_scores_mean+test_scores_std, alpha = 0.2, color='g')\n",
    "                                        plt.plot(train_sizes, train_scores_mean, 'o-', color=\"r\", label=\"Training score\")\n",
    "                                        plt.plot(train_sizes, test_scores_mean, 'o-', color=\"g\", label=\"Validation score\")\n",
    "                                        plt.legend(loc=\"best\")\n",
    "                                        return plt\n",
    "                                        \n",
    "#3 Plot Validation Curve\n",
    "def plot_validation_curve(estimator, \n",
    "                                          title, \n",
    "                                         X, y, \n",
    "                                         param_name, \n",
    "                                         param_range, \n",
    "                                         ylim=None, \n",
    "                                         cv=None,\n",
    "                                        n_jobs=1, \n",
    "                                        train_sizes=np.linspace(.1, 1.0, 5)):\n",
    "    \n",
    "    # get train_size, train_scores, test_scores                                    \n",
    "    train_scores, test_scores = validation_curve(estimator, X, y, param_name, param_range, cv)\n",
    "   \n",
    "    # get parameters Mu, sigma for Train, Test data\n",
    "    train_mean = np.mean(train_scores, axis=1)\n",
    "    train_std = np.std(train_scores, axis=1)\n",
    "    test_mean = np.mean(test_scores, axis=1)\n",
    "    test_std = np.std(test_scores, axis=1)\n",
    "\n",
    "    # Plot and set fill, labels, legend\n",
    "    plt.plot(param_range, train_mean, color='r', marker='o', markersize=5, label='Training score')\n",
    "    plt.fill_between(param_range, train_mean + train_std, train_mean - train_std, alpha=0.15, color='r')\n",
    "    plt.plot(param_range, test_mean, color='g', linestyle='--', marker='s', markersize=5, label='Validation score')\n",
    "    plt.fill_between(param_range, test_mean + test_std, test_mean - test_std, alpha=0.15, color='g')\n",
    "    plt.grid() \n",
    "    plt.xscale('log')\n",
    "    plt.legend(loc='best') \n",
    "    plt.xlabel('Parameter') \n",
    "    plt.ylabel('Score') \n",
    "    plt.ylim(ylim)\n",
    "\n",
    "\n"
   ]
  },
  {
   "cell_type": "markdown",
   "metadata": {},
   "source": [
    "# STEP:2 Import Data and begin Exploratory Data Analysis"
   ]
  },
  {
   "cell_type": "code",
   "execution_count": 19,
   "metadata": {},
   "outputs": [
    {
     "output_type": "execute_result",
     "data": {
      "text/plain": "   PassengerId  Survived  Pclass  \\\n0            1         0       3   \n1            2         1       1   \n2            3         1       3   \n3            4         1       1   \n4            5         0       3   \n\n                                                Name     Sex   Age  SibSp  \\\n0                            Braund, Mr. Owen Harris    male  22.0      1   \n1  Cumings, Mrs. John Bradley (Florence Briggs Th...  female  38.0      1   \n2                             Heikkinen, Miss. Laina  female  26.0      0   \n3       Futrelle, Mrs. Jacques Heath (Lily May Peel)  female  35.0      1   \n4                           Allen, Mr. William Henry    male  35.0      0   \n\n   Parch            Ticket     Fare Cabin Embarked  \n0      0         A/5 21171   7.2500   NaN        S  \n1      0          PC 17599  71.2833   C85        C  \n2      0  STON/O2. 3101282   7.9250   NaN        S  \n3      0            113803  53.1000  C123        S  \n4      0            373450   8.0500   NaN        S  ",
      "text/html": "<div>\n<style scoped>\n    .dataframe tbody tr th:only-of-type {\n        vertical-align: middle;\n    }\n\n    .dataframe tbody tr th {\n        vertical-align: top;\n    }\n\n    .dataframe thead th {\n        text-align: right;\n    }\n</style>\n<table border=\"1\" class=\"dataframe\">\n  <thead>\n    <tr style=\"text-align: right;\">\n      <th></th>\n      <th>PassengerId</th>\n      <th>Survived</th>\n      <th>Pclass</th>\n      <th>Name</th>\n      <th>Sex</th>\n      <th>Age</th>\n      <th>SibSp</th>\n      <th>Parch</th>\n      <th>Ticket</th>\n      <th>Fare</th>\n      <th>Cabin</th>\n      <th>Embarked</th>\n    </tr>\n  </thead>\n  <tbody>\n    <tr>\n      <td>0</td>\n      <td>1</td>\n      <td>0</td>\n      <td>3</td>\n      <td>Braund, Mr. Owen Harris</td>\n      <td>male</td>\n      <td>22.0</td>\n      <td>1</td>\n      <td>0</td>\n      <td>A/5 21171</td>\n      <td>7.2500</td>\n      <td>NaN</td>\n      <td>S</td>\n    </tr>\n    <tr>\n      <td>1</td>\n      <td>2</td>\n      <td>1</td>\n      <td>1</td>\n      <td>Cumings, Mrs. John Bradley (Florence Briggs Th...</td>\n      <td>female</td>\n      <td>38.0</td>\n      <td>1</td>\n      <td>0</td>\n      <td>PC 17599</td>\n      <td>71.2833</td>\n      <td>C85</td>\n      <td>C</td>\n    </tr>\n    <tr>\n      <td>2</td>\n      <td>3</td>\n      <td>1</td>\n      <td>3</td>\n      <td>Heikkinen, Miss. Laina</td>\n      <td>female</td>\n      <td>26.0</td>\n      <td>0</td>\n      <td>0</td>\n      <td>STON/O2. 3101282</td>\n      <td>7.9250</td>\n      <td>NaN</td>\n      <td>S</td>\n    </tr>\n    <tr>\n      <td>3</td>\n      <td>4</td>\n      <td>1</td>\n      <td>1</td>\n      <td>Futrelle, Mrs. Jacques Heath (Lily May Peel)</td>\n      <td>female</td>\n      <td>35.0</td>\n      <td>1</td>\n      <td>0</td>\n      <td>113803</td>\n      <td>53.1000</td>\n      <td>C123</td>\n      <td>S</td>\n    </tr>\n    <tr>\n      <td>4</td>\n      <td>5</td>\n      <td>0</td>\n      <td>3</td>\n      <td>Allen, Mr. William Henry</td>\n      <td>male</td>\n      <td>35.0</td>\n      <td>0</td>\n      <td>0</td>\n      <td>373450</td>\n      <td>8.0500</td>\n      <td>NaN</td>\n      <td>S</td>\n    </tr>\n  </tbody>\n</table>\n</div>"
     },
     "metadata": {},
     "execution_count": 19
    }
   ],
   "source": [
    "# Read data\n",
    "df = pd.read_csv(\"../titanic_data/train.csv\")\n",
    "df.head()"
   ]
  },
  {
   "cell_type": "code",
   "execution_count": 20,
   "metadata": {},
   "outputs": [],
   "source": [
    "#just make a copy incase we mess up original data\n",
    "df_raw=df.copy()"
   ]
  },
  {
   "cell_type": "markdown",
   "metadata": {},
   "source": [
    "Definitions and quick thoughts:\n",
    "\n",
    "* PassengerId. Unique identification of the passenger. It shouldn't be necessary for the machine learning model.\n",
    "* Survived. Survival (0 = No, 1 = Yes). Binary variable that will be our target variable.\n",
    "* Pclass. Ticket class (1 = 1st, 2 = 2nd, 3 = 3rd). Ready to go.\n",
    "* Name. Name of the passenger. We need to parse before using it.\n",
    "* Sex. Sex. Categorical variable that should be encoded.\n",
    "* Age. Age in years. Ready to go.\n",
    "* SibSp. # of siblings / spouses aboard the Titanic. Ready to go.\n",
    "* Parch. # of parents / children aboard the Titanic. Ready to go.\n",
    "* Ticket. Ticket number. Big mess. We need to understand its structure first.\n",
    "* Fare. Passenger fare. Ready to go.\n",
    "* Cabin. Cabin number. It needs to be parsed.\n",
    "* Embarked. Port of Embarkation (C = Cherbourg, Q = Queenstown, S = Southampton). Categorical feature that should be encoded.\n",
    "### The main conclusion is that we already have a set of features that we can easily use in our machine learning model. Other features, like 'Name', 'Ticket', and 'Fare', require an additional effort before we can integrate them.\n"
   ]
  },
  {
   "cell_type": "code",
   "execution_count": null,
   "metadata": {},
   "outputs": [],
   "source": []
  }
 ]
}