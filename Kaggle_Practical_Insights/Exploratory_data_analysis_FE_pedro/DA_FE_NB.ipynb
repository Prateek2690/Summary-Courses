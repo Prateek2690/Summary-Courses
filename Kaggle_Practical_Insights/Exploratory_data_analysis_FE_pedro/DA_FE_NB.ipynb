{
 "metadata": {
  "language_info": {
   "codemirror_mode": {
    "name": "ipython",
    "version": 3
   },
   "file_extension": ".py",
   "mimetype": "text/x-python",
   "name": "python",
   "nbconvert_exporter": "python",
   "pygments_lexer": "ipython3",
   "version": "3.7.4-final"
  },
  "orig_nbformat": 2,
  "kernelspec": {
   "name": "python37464bitanaconda3virtualenv4d6fa84d42f44c7e910d29746f51e4dd",
   "display_name": "Python 3.7.4 64-bit ('anaconda3': virtualenv)"
  }
 },
 "nbformat": 4,
 "nbformat_minor": 2,
 "cells": [
  {
   "cell_type": "markdown",
   "metadata": {},
   "source": [
    "# STEP:1 (Imports and Utility functions for plotting)"
   ]
  },
  {
   "cell_type": "code",
   "execution_count": 2,
   "metadata": {
    "tags": []
   },
   "outputs": [],
   "source": [
    "# Importing python built-in and Scikit related libraries\n",
    "import pandas as pd #for dataframes and analysis\n",
    "import numpy as np #for calculations using vecs, matrices\n",
    "import seaborn as sns #for plotting like hist, dist, bar etc\n",
    "import matplotlib.pyplot as plt #make built-in plots as well provide support to seaborn package libraries\n",
    "#matplotlib inline #activate matplotlib plotting over cell in the notbook\n",
    "\n",
    "#Scikit libraries\n",
    "from sklearn.model_selection import train_test_split # split the data for cross validation purpose\n",
    "from sklearn.model_selection import learning_curve # for plotting comparison scores training and test (Cross-val-score)\n",
    "from sklearn.model_selection import validation_curve  # for plotting comparison scores training and test (Cross-val-score)\n",
    "from sklearn.model_selection import cross_val_score # for computing cross_val_score, cross_val_predict\n",
    "from sklearn.linear_model import LogisticRegression # Importing model"
   ]
  },
  {
   "cell_type": "markdown",
   "metadata": {},
   "source": [
    "## STEP:1b (Utility Functions)"
   ]
  },
  {
   "cell_type": "code",
   "execution_count": 17,
   "metadata": {},
   "outputs": [],
   "source": [
    "#1 Missing values tally DF\n",
    "def draw_missing_data_table(df):\n",
    "    missing=df.isnull().sum().sort_values(ascending=False )# Get the missing values for each column, which will represented as index in the df\n",
    "    percents=(df.isnull().sum()/df.isnull().count()).sort_values(ascending=False) # Get the percents for the missing values\n",
    "    missing_data = pd.concat([missing, percents], axis=1, keys=['Total', 'Percent'])\n",
    "    return missing_data\n",
    "\n",
    "#2 Plot Learning Curve\n",
    "def plot_learning_curve(estimator,\n",
    "                                        title,\n",
    "                                        X, y,\n",
    "                                        ylim=None,\n",
    "                                        cv=None,\n",
    "                                        n_jobs = 1,\n",
    "                                    train_sizes=np.linspace(0.1,1.0, 5)):\n",
    "\n",
    "                                        # Create Fig obj with trivial settings\n",
    "                                        plt.figure() # create fig obj\n",
    "                                        plt.title(title) # set title for the fig\n",
    "                                        if ylim is not None: # set the ylim if yli\n",
    "                                            plt.ylim(*ylim)\n",
    "                                        plt.xlabel(\"Training examples\")\n",
    "                                        plt.ylabel(\"Score\")\n",
    "\n",
    "                                        # get train_size, train_scores, test_scores\n",
    "                                        train_sizes, train_scores, test_scores = learning_curve(estimator, X, y, cv=cv, n_jobs= n_jobs, train_sizes = train_sizes)\n",
    "\n",
    "                                        # get parameters Mu, sigma for Train, Test data\n",
    "                                        train_scores_mean = np.mean(train_scores, axis= 1)\n",
    "                                        test_scores_mean = np.mean(test_scores, axis= 1)\n",
    "                                        train_scores_std = np.std(train_scores, axis= 1)\n",
    "                                        test_scores_std = np.std(test_scores, axis= 1)\n",
    "\n",
    "                                        # Set the fill\n",
    "                                        plt.fill_between(train_sizes, train_scores_mean-train_scores_std, train_scores_mean+train_scores_std, alpha = 0.2, color='r')\n",
    "                                        plt.fill_between(train_sizes, test_scores_mean-test_scores_std, test_scores_mean+test_scores_std, alpha = 0.2, color='g')\n",
    "                                        plt.plot(train_sizes, train_scores_mean, 'o-', color=\"r\", label=\"Training score\")\n",
    "                                        plt.plot(train_sizes, test_scores_mean, 'o-', color=\"g\", label=\"Validation score\")\n",
    "                                        plt.legend(loc=\"best\")\n",
    "                                        return plt\n",
    "                                        \n",
    "#3 Plot Validation Curve\n",
    "def plot_validation_curve(estimator, \n",
    "                                          title, \n",
    "                                         X, y, \n",
    "                                         param_name, \n",
    "                                         param_range, \n",
    "                                         ylim=None, \n",
    "                                         cv=None,\n",
    "                                        n_jobs=1, \n",
    "                                        train_sizes=np.linspace(.1, 1.0, 5)):\n",
    "    \n",
    "    # get train_size, train_scores, test_scores                                    \n",
    "    train_scores, test_scores = validation_curve(estimator, X, y, param_name, param_range, cv)\n",
    "   \n",
    "    # get parameters Mu, sigma for Train, Test data\n",
    "    train_mean = np.mean(train_scores, axis=1)\n",
    "    train_std = np.std(train_scores, axis=1)\n",
    "    test_mean = np.mean(test_scores, axis=1)\n",
    "    test_std = np.std(test_scores, axis=1)\n",
    "\n",
    "    # Plot and set fill, labels, legend\n",
    "    plt.plot(param_range, train_mean, color='r', marker='o', markersize=5, label='Training score')\n",
    "    plt.fill_between(param_range, train_mean + train_std, train_mean - train_std, alpha=0.15, color='r')\n",
    "    plt.plot(param_range, test_mean, color='g', linestyle='--', marker='s', markersize=5, label='Validation score')\n",
    "    plt.fill_between(param_range, test_mean + test_std, test_mean - test_std, alpha=0.15, color='g')\n",
    "    plt.grid() \n",
    "    plt.xscale('log')\n",
    "    plt.legend(loc='best') \n",
    "    plt.xlabel('Parameter') \n",
    "    plt.ylabel('Score') \n",
    "    plt.ylim(ylim)\n",
    "\n",
    "\n"
   ]
  },
  {
   "cell_type": "code",
   "execution_count": null,
   "metadata": {},
   "outputs": [],
   "source": []
  }
 ]
}